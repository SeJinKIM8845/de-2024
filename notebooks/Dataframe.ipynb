{
 "cells": [
  {
   "cell_type": "code",
   "execution_count": 1,
   "id": "f1a91d11",
   "metadata": {},
   "outputs": [
    {
     "name": "stderr",
     "output_type": "stream",
     "text": [
      "WARNING: An illegal reflective access operation has occurred\n",
      "WARNING: Illegal reflective access by org.apache.spark.unsafe.Platform (file:/usr/local/spark-3.1.2-bin-hadoop3.2/jars/spark-unsafe_2.12-3.1.2.jar) to constructor java.nio.DirectByteBuffer(long,int)\n",
      "WARNING: Please consider reporting this to the maintainers of org.apache.spark.unsafe.Platform\n",
      "WARNING: Use --illegal-access=warn to enable warnings of further illegal reflective access operations\n",
      "WARNING: All illegal access operations will be denied in a future release\n",
      "24/08/22 08:05:57 WARN NativeCodeLoader: Unable to load native-hadoop library for your platform... using builtin-java classes where applicable\n",
      "Using Spark's default log4j profile: org/apache/spark/log4j-defaults.properties\n",
      "Setting default log level to \"WARN\".\n",
      "To adjust logging level use sc.setLogLevel(newLevel). For SparkR, use setLogLevel(newLevel).\n"
     ]
    },
    {
     "data": {
      "text/plain": [
       "[('spark.master', 'local[*]'),\n",
       " ('spark.submit.pyFiles', ''),\n",
       " ('spark.submit.deployMode', 'client'),\n",
       " ('spark.app.name', 'spark-context-test'),\n",
       " ('spark.executor.extraJavaOptions',\n",
       "  '-Dio.netty.tryReflectionSetAccessible=true'),\n",
       " ('spark.ui.showConsoleProgress', 'true'),\n",
       " ('spark.driver.extraJavaOptions',\n",
       "  '-Dio.netty.tryReflectionSetAccessible=true')]"
      ]
     },
     "execution_count": 1,
     "metadata": {},
     "output_type": "execute_result"
    }
   ],
   "source": [
    "from pyspark import SparkConf, SparkContext\n",
    "\n",
    "spark_conf = SparkConf().setAppName(\"spark-context-test\")\n",
    "spark = SparkContext(conf = spark_conf)\n",
    "SparkConf().getAll()"
   ]
  },
  {
   "cell_type": "code",
   "execution_count": 2,
   "id": "f8c9f565",
   "metadata": {},
   "outputs": [
    {
     "data": {
      "text/html": [
       "\n",
       "            <div>\n",
       "                <p><b>SparkSession - in-memory</b></p>\n",
       "                \n",
       "        <div>\n",
       "            <p><b>SparkContext</b></p>\n",
       "\n",
       "            <p><a href=\"http://b89e87b7379a:4040\">Spark UI</a></p>\n",
       "\n",
       "            <dl>\n",
       "              <dt>Version</dt>\n",
       "                <dd><code>v3.1.2</code></dd>\n",
       "              <dt>Master</dt>\n",
       "                <dd><code>local[*]</code></dd>\n",
       "              <dt>AppName</dt>\n",
       "                <dd><code>spark-context-test</code></dd>\n",
       "            </dl>\n",
       "        </div>\n",
       "        \n",
       "            </div>\n",
       "        "
      ],
      "text/plain": [
       "<pyspark.sql.session.SparkSession at 0x7f48fb7e4bb0>"
      ]
     },
     "execution_count": 2,
     "metadata": {},
     "output_type": "execute_result"
    }
   ],
   "source": [
    "from pyspark.sql import SparkSession\n",
    "\n",
    "spark = (\n",
    "    SparkSession.builder\n",
    "    .master(\"local\").appName(\"DataProcessing\")\n",
    "    .getOrCreate())\n",
    "\n",
    "spark"
   ]
  },
  {
   "cell_type": "code",
   "execution_count": 3,
   "id": "219b25f0",
   "metadata": {},
   "outputs": [
    {
     "name": "stdout",
     "output_type": "stream",
     "text": [
      "flight,time,wind_speed,wind_angle,battery_voltage,battery_current,position_x,position_y,position_z,orientation_x,orientation_y,orientation_z,orientation_w,velocity_x,velocity_y,velocity_z,angular_x,angular_y,angular_z,linear_acceleration_x,linear_acceleration_y,linear_acceleration_z,speed,payload,altitude,date,time_day,route\r\n",
      "1,0.0,0.100000001,12.0,24.22217369,0.087469511,-79.78239570000002,40.45804724,269.3324017,0.001772306,0.005609551,-0.255525738,0.966784358,-0.012825926,-0.005644709,0.010474564,-0.0008251889999999999,0.0014074279999999998,0.006815216999999999,0.004257701,-0.120404978,-9.811136699,4.0,0.0,25,2019-04-07,10:13,R5\r\n",
      "1,0.2,0.100000001,3.0,24.22718048,0.095421284,-79.78239587,40.45804729,269.332056,0.001767616,0.005606697,-0.255530089,0.966783345,-0.015409501,-0.001635618,0.010136867,1.24e-06,-0.002861936,0.002033538,0.006174664,-0.116396593,-9.810391763,4.0,0.0,25,2019-04-07,10:13,R5\r\n",
      "1,0.3,0.100000001,352.0,24.22592926,0.095421284,-79.78239589,40.4580473,269.3330812,0.001767616,0.005606697,-0.255530089,0.966783345,-0.016513727,-0.001821677,0.009980725,-7.31e-06,-0.001485685,-0.0008742989999999999,0.002696266,-0.128591638,-9.809439837000001,4.0,0.0,25,2019-04-07,10:13,R5\r\n",
      "1,0.5,0.100000001,354.0,24.22467804,0.095421284,-79.78239603,40.45804731,269.33464810000004,0.001775031,0.00561423,-0.255523652,0.966784894,-0.007775039,-0.005263036,0.01509068,0.001255224,-0.000347319,0.002443233,0.002024007,-0.12827085400000002,-9.810159044,4.0,0.0,25,2019-04-07,10:13,R5\r\n",
      "1,0.6,0.100000001,359.0,24.21090508,0.079517737,-79.78239604,40.45804731,269.3361778,0.001775031,0.00561423,-0.255523652,0.966784894,-0.009060158,-0.005173516,0.015142142,-0.002383463,0.000181737,-0.006424722,0.008270765,-0.119889629,-9.812124877999999,4.0,0.0,25,2019-04-07,10:13,R5\r\n",
      "1,0.81,0.100000001,350.0,24.22342491,0.095421284,-79.78239617,40.45804735,269.335937,0.00177404,0.005614494,-0.255522519,0.966785192,-0.008598091,-0.00358808,0.013628142,-0.004059605,0.001028723,-0.002546404,0.005758231,-0.12422734,-9.811599798,4.0,0.0,25,2019-04-07,10:13,R5\r\n",
      "1,0.9,0.200000003,354.0,24.21841621,0.095421284,-79.78239618,40.45804735,269.3373308,0.00177404,0.005614494,-0.255522519,0.966785192,-0.008570227,-0.003143273,0.014001519,0.000481865,-0.003512588,0.003304436,0.006092723,-0.115744812,-9.811655931,4.0,0.0,25,2019-04-07,10:13,R5\r\n",
      "1,1.1,0.200000003,352.0,24.21340942,0.087469511,-79.7823963,40.45804738,269.3340816,0.0017733820000000004,0.00561697,-0.255522013,0.966785312,-0.006398486,-0.001244302,0.006902317,-0.003008329,-0.001127758,-0.001499851,0.008397809000000001,-0.114766298,-9.812431272000001,4.0,0.0,25,2019-04-07,10:13,R5\r\n",
      "1,1.2,0.200000003,358.0,24.22968483,0.095421284,-79.78239641,40.45804741,269.3324332,0.0017737629999999996,0.005617787,-0.255519837,0.966785908,-0.004376835,-0.000661347,0.008408337,0.001629055,0.00266217,0.000726055,0.003208411,-0.128756091,-9.809760264,4.0,0.0,25,2019-04-07,10:13,R5\r\n"
     ]
    }
   ],
   "source": [
    "%%bash\n",
    "head -n 10 ../data/flights.csv"
   ]
  },
  {
   "cell_type": "code",
   "execution_count": 4,
   "id": "ca33e538",
   "metadata": {},
   "outputs": [],
   "source": [
    "# data 타입 표시\n",
    "from pyspark.sql.types import StructType, StructField, StringType, IntegerType, DateType, DoubleType, TimestampType"
   ]
  },
  {
   "cell_type": "code",
   "execution_count": 5,
   "id": "f99de8d5",
   "metadata": {},
   "outputs": [
    {
     "name": "stderr",
     "output_type": "stream",
     "text": [
      "                                                                                \r"
     ]
    }
   ],
   "source": [
    "csv_file_path=\"../data/flights.csv\"\n",
    "df = spark.read.csv(csv_file_path,header=True,inferSchema=True)"
   ]
  },
  {
   "cell_type": "code",
   "execution_count": 6,
   "id": "bbecb6fe",
   "metadata": {},
   "outputs": [],
   "source": [
    "# Schema 정의\n",
    "schema = StructType([\n",
    "    StructField(\"time\", DoubleType(), True),\n",
    "    StructField(\"battery_voltage\", DoubleType(), True),\n",
    "    StructField(\"battery_current\", DoubleType(), True),\n",
    "    StructField(\"altitude\", DoubleType(), True), \n",
    "    StructField(\"route\", StringType(), True),\n",
    "    StructField(\"date\", TimestampType(), True),\n",
    "    StructField(\"time_day\", TimestampType(), True)\n",
    "])"
   ]
  },
  {
   "cell_type": "code",
   "execution_count": 7,
   "id": "b4280ccc",
   "metadata": {},
   "outputs": [
    {
     "name": "stderr",
     "output_type": "stream",
     "text": [
      "24/08/22 08:06:05 WARN package: Truncated the string representation of a plan since it was too large. This behavior can be adjusted by setting 'spark.sql.debug.maxToStringFields'.\n"
     ]
    },
    {
     "name": "stdout",
     "output_type": "stream",
     "text": [
      "root\n",
      " |-- flight: integer (nullable = true)\n",
      " |-- time: double (nullable = true)\n",
      " |-- wind_speed: double (nullable = true)\n",
      " |-- wind_angle: double (nullable = true)\n",
      " |-- battery_voltage: double (nullable = true)\n",
      " |-- battery_current: double (nullable = true)\n",
      " |-- position_x: double (nullable = true)\n",
      " |-- position_y: double (nullable = true)\n",
      " |-- position_z: double (nullable = true)\n",
      " |-- orientation_x: double (nullable = true)\n",
      " |-- orientation_y: double (nullable = true)\n",
      " |-- orientation_z: double (nullable = true)\n",
      " |-- orientation_w: double (nullable = true)\n",
      " |-- velocity_x: double (nullable = true)\n",
      " |-- velocity_y: double (nullable = true)\n",
      " |-- velocity_z: double (nullable = true)\n",
      " |-- angular_x: double (nullable = true)\n",
      " |-- angular_y: double (nullable = true)\n",
      " |-- angular_z: double (nullable = true)\n",
      " |-- linear_acceleration_x: double (nullable = true)\n",
      " |-- linear_acceleration_y: double (nullable = true)\n",
      " |-- linear_acceleration_z: double (nullable = true)\n",
      " |-- speed: double (nullable = true)\n",
      " |-- payload: double (nullable = true)\n",
      " |-- altitude: string (nullable = true)\n",
      " |-- date: string (nullable = true)\n",
      " |-- time_day: string (nullable = true)\n",
      " |-- route: string (nullable = true)\n",
      "\n",
      "+------+----+-----------+----------+---------------+---------------+------------------+-----------+------------------+-------------+-------------+-------------+-------------+------------+------------+-----------+--------------------+--------------------+--------------------+---------------------+---------------------+---------------------+-----+-------+--------+----------+--------+-----+\n",
      "|flight|time| wind_speed|wind_angle|battery_voltage|battery_current|        position_x| position_y|        position_z|orientation_x|orientation_y|orientation_z|orientation_w|  velocity_x|  velocity_y| velocity_z|           angular_x|           angular_y|           angular_z|linear_acceleration_x|linear_acceleration_y|linear_acceleration_z|speed|payload|altitude|      date|time_day|route|\n",
      "+------+----+-----------+----------+---------------+---------------+------------------+-----------+------------------+-------------+-------------+-------------+-------------+------------+------------+-----------+--------------------+--------------------+--------------------+---------------------+---------------------+---------------------+-----+-------+--------+----------+--------+-----+\n",
      "|     1| 0.0|0.100000001|      12.0|    24.22217369|    0.087469511|-79.78239570000002|40.45804724|       269.3324017|  0.001772306|  0.005609551| -0.255525738|  0.966784358|-0.012825926|-0.005644709|0.010474564|-8.25188999999999...|0.001407427999999...|0.006815216999999999|          0.004257701|         -0.120404978|         -9.811136699|  4.0|    0.0|      25|2019-04-07|   10:13|   R5|\n",
      "|     1| 0.2|0.100000001|       3.0|    24.22718048|    0.095421284|      -79.78239587|40.45804729|        269.332056|  0.001767616|  0.005606697| -0.255530089|  0.966783345|-0.015409501|-0.001635618|0.010136867|             1.24E-6|        -0.002861936|         0.002033538|          0.006174664|         -0.116396593|         -9.810391763|  4.0|    0.0|      25|2019-04-07|   10:13|   R5|\n",
      "|     1| 0.3|0.100000001|     352.0|    24.22592926|    0.095421284|      -79.78239589| 40.4580473|       269.3330812|  0.001767616|  0.005606697| -0.255530089|  0.966783345|-0.016513727|-0.001821677|0.009980725|            -7.31E-6|        -0.001485685|-8.74298999999999...|          0.002696266|         -0.128591638|   -9.809439837000001|  4.0|    0.0|      25|2019-04-07|   10:13|   R5|\n",
      "|     1| 0.5|0.100000001|     354.0|    24.22467804|    0.095421284|      -79.78239603|40.45804731|269.33464810000004|  0.001775031|   0.00561423| -0.255523652|  0.966784894|-0.007775039|-0.005263036| 0.01509068|         0.001255224|         -3.47319E-4|         0.002443233|          0.002024007| -0.12827085400000002|         -9.810159044|  4.0|    0.0|      25|2019-04-07|   10:13|   R5|\n",
      "|     1| 0.6|0.100000001|     359.0|    24.21090508|    0.079517737|      -79.78239604|40.45804731|       269.3361778|  0.001775031|   0.00561423| -0.255523652|  0.966784894|-0.009060158|-0.005173516|0.015142142|        -0.002383463|          1.81737E-4|        -0.006424722|          0.008270765|         -0.119889629|   -9.812124877999999|  4.0|    0.0|      25|2019-04-07|   10:13|   R5|\n",
      "+------+----+-----------+----------+---------------+---------------+------------------+-----------+------------------+-------------+-------------+-------------+-------------+------------+------------+-----------+--------------------+--------------------+--------------------+---------------------+---------------------+---------------------+-----+-------+--------+----------+--------+-----+\n",
      "only showing top 5 rows\n",
      "\n"
     ]
    }
   ],
   "source": [
    "df.printSchema()\n",
    "df.show(5)"
   ]
  },
  {
   "cell_type": "code",
   "execution_count": 8,
   "id": "cf7f5c89",
   "metadata": {},
   "outputs": [],
   "source": [
    "csv_file_path = \"../data/flights.csv\"\n",
    "df = spark.read.csv(csv_file_path,header=True, schema=schema)"
   ]
  },
  {
   "cell_type": "code",
   "execution_count": 9,
   "id": "f78f8dbc",
   "metadata": {},
   "outputs": [
    {
     "name": "stdout",
     "output_type": "stream",
     "text": [
      "root\n",
      " |-- time: double (nullable = true)\n",
      " |-- battery_voltage: double (nullable = true)\n",
      " |-- battery_current: double (nullable = true)\n",
      " |-- altitude: double (nullable = true)\n",
      " |-- route: string (nullable = true)\n",
      " |-- date: timestamp (nullable = true)\n",
      " |-- time_day: timestamp (nullable = true)\n",
      "\n",
      "+----+---------------+---------------+--------+-----------+----+--------+\n",
      "|time|battery_voltage|battery_current|altitude|      route|date|time_day|\n",
      "+----+---------------+---------------+--------+-----------+----+--------+\n",
      "| 1.0|            0.0|    0.100000001|    12.0|24.22217369|null|    null|\n",
      "| 1.0|            0.2|    0.100000001|     3.0|24.22718048|null|    null|\n",
      "| 1.0|            0.3|    0.100000001|   352.0|24.22592926|null|    null|\n",
      "| 1.0|            0.5|    0.100000001|   354.0|24.22467804|null|    null|\n",
      "| 1.0|            0.6|    0.100000001|   359.0|24.21090508|null|    null|\n",
      "+----+---------------+---------------+--------+-----------+----+--------+\n",
      "only showing top 5 rows\n",
      "\n"
     ]
    },
    {
     "name": "stderr",
     "output_type": "stream",
     "text": [
      "24/08/22 08:06:05 WARN CSVHeaderChecker: Number of column in CSV header is not equal to number of fields in the schema:\n",
      " Header length: 28, schema size: 7\n",
      "CSV file: file:///home/jovyan/data/flights.csv\n"
     ]
    }
   ],
   "source": [
    "df.printSchema()\n",
    "df.show(5)"
   ]
  },
  {
   "cell_type": "code",
   "execution_count": 10,
   "id": "80d4ccbb",
   "metadata": {},
   "outputs": [],
   "source": [
    "import matplotlib.pyplot as plt\n",
    "import seaborn as sns\n",
    "from pyspark.sql.functions import col, to_timestamp, concat, lit"
   ]
  },
  {
   "cell_type": "code",
   "execution_count": 11,
   "id": "3261a72d",
   "metadata": {},
   "outputs": [
    {
     "name": "stdout",
     "output_type": "stream",
     "text": [
      "root\n",
      " |-- time: double (nullable = true)\n",
      " |-- battery_voltage: double (nullable = true)\n",
      " |-- battery_current: double (nullable = true)\n",
      " |-- altitude: double (nullable = true)\n",
      " |-- route: string (nullable = true)\n",
      " |-- date: timestamp (nullable = true)\n",
      " |-- time_day: timestamp (nullable = true)\n",
      "\n"
     ]
    }
   ],
   "source": [
    "df.printSchema()"
   ]
  },
  {
   "cell_type": "code",
   "execution_count": 12,
   "id": "d63e63f0",
   "metadata": {},
   "outputs": [
    {
     "name": "stdout",
     "output_type": "stream",
     "text": [
      "+----+--------+\n",
      "|date|time_day|\n",
      "+----+--------+\n",
      "|null|    null|\n",
      "|null|    null|\n",
      "|null|    null|\n",
      "|null|    null|\n",
      "|null|    null|\n",
      "+----+--------+\n",
      "only showing top 5 rows\n",
      "\n"
     ]
    },
    {
     "name": "stderr",
     "output_type": "stream",
     "text": [
      "24/08/22 08:06:07 WARN CSVHeaderChecker: CSV header does not conform to the schema.\n",
      " Header: battery_current, position_x\n",
      " Schema: date, time_day\n",
      "Expected: date but found: battery_current\n",
      "CSV file: file:///home/jovyan/data/flights.csv\n"
     ]
    }
   ],
   "source": [
    "df.select(\"date\", \"time_day\").show(5)"
   ]
  },
  {
   "cell_type": "code",
   "execution_count": 13,
   "id": "358d531f",
   "metadata": {},
   "outputs": [
    {
     "name": "stdout",
     "output_type": "stream",
     "text": [
      "\n",
      "New column 'full_timestamp' added. Updated schema:\n",
      "root\n",
      " |-- time: double (nullable = true)\n",
      " |-- battery_voltage: double (nullable = true)\n",
      " |-- battery_current: double (nullable = true)\n",
      " |-- altitude: double (nullable = true)\n",
      " |-- route: string (nullable = true)\n",
      " |-- date: timestamp (nullable = true)\n",
      " |-- time_day: timestamp (nullable = true)\n",
      " |-- full_timestamp: timestamp (nullable = true)\n",
      "\n",
      "\n",
      "Sample data with new column:\n",
      "+----+---------------+---------------+--------+-----------+----+--------+--------------+\n",
      "|time|battery_voltage|battery_current|altitude|      route|date|time_day|full_timestamp|\n",
      "+----+---------------+---------------+--------+-----------+----+--------+--------------+\n",
      "| 1.0|            0.0|    0.100000001|    12.0|24.22217369|null|    null|          null|\n",
      "| 1.0|            0.2|    0.100000001|     3.0|24.22718048|null|    null|          null|\n",
      "| 1.0|            0.3|    0.100000001|   352.0|24.22592926|null|    null|          null|\n",
      "| 1.0|            0.5|    0.100000001|   354.0|24.22467804|null|    null|          null|\n",
      "| 1.0|            0.6|    0.100000001|   359.0|24.21090508|null|    null|          null|\n",
      "+----+---------------+---------------+--------+-----------+----+--------+--------------+\n",
      "only showing top 5 rows\n",
      "\n"
     ]
    },
    {
     "name": "stderr",
     "output_type": "stream",
     "text": [
      "24/08/22 08:06:07 WARN CSVHeaderChecker: Number of column in CSV header is not equal to number of fields in the schema:\n",
      " Header length: 28, schema size: 7\n",
      "CSV file: file:///home/jovyan/data/flights.csv\n"
     ]
    }
   ],
   "source": [
    "df = df.withColumn(\"full_timestamp\", \n",
    "                   to_timestamp(concat(col(\"date\").cast(\"string\"), \n",
    "                                       lit(\" \"), \n",
    "                                       col(\"time_day\")), \n",
    "                                \"yyyy-MM-dd HH:mm\"))\n",
    "\n",
    "print(\"\\nNew column 'full_timestamp' added. Updated schema:\")\n",
    "df.printSchema()\n",
    "print(\"\\nSample data with new column:\")\n",
    "df.show(5)"
   ]
  },
  {
   "cell_type": "code",
   "execution_count": 14,
   "id": "96ede4df",
   "metadata": {},
   "outputs": [
    {
     "name": "stdout",
     "output_type": "stream",
     "text": [
      "\n",
      "Selected columns. New DataFrame schema:\n",
      "root\n",
      " |-- full_timestamp: timestamp (nullable = true)\n",
      " |-- time: double (nullable = true)\n",
      " |-- battery_voltage: double (nullable = true)\n",
      " |-- battery_current: double (nullable = true)\n",
      " |-- altitude: double (nullable = true)\n",
      " |-- route: string (nullable = true)\n",
      "\n",
      "\n",
      "Sample data of selected columns:\n",
      "+--------------+----+---------------+---------------+--------+-----------+\n",
      "|full_timestamp|time|battery_voltage|battery_current|altitude|      route|\n",
      "+--------------+----+---------------+---------------+--------+-----------+\n",
      "|          null| 1.0|            0.0|    0.100000001|    12.0|24.22217369|\n",
      "|          null| 1.0|            0.2|    0.100000001|     3.0|24.22718048|\n",
      "|          null| 1.0|            0.3|    0.100000001|   352.0|24.22592926|\n",
      "|          null| 1.0|            0.5|    0.100000001|   354.0|24.22467804|\n",
      "|          null| 1.0|            0.6|    0.100000001|   359.0|24.21090508|\n",
      "+--------------+----+---------------+---------------+--------+-----------+\n",
      "only showing top 5 rows\n",
      "\n"
     ]
    },
    {
     "name": "stderr",
     "output_type": "stream",
     "text": [
      "24/08/22 08:06:07 WARN CSVHeaderChecker: Number of column in CSV header is not equal to number of fields in the schema:\n",
      " Header length: 28, schema size: 7\n",
      "CSV file: file:///home/jovyan/data/flights.csv\n"
     ]
    }
   ],
   "source": [
    "selected_columns = [\"full_timestamp\", \"time\", \"battery_voltage\", \"battery_current\", \"altitude\", \"route\"]\n",
    "df_selected = df.select(selected_columns)\n",
    "\n",
    "print(\"\\nSelected columns. New DataFrame schema:\")\n",
    "df_selected.printSchema()\n",
    "\n",
    "print(\"\\nSample data of selected columns:\")\n",
    "df_selected.show(5)"
   ]
  },
  {
   "cell_type": "code",
   "execution_count": 15,
   "id": "a9da1d3f",
   "metadata": {},
   "outputs": [
    {
     "name": "stdout",
     "output_type": "stream",
     "text": [
      "\n",
      "Data sorted by time. Sample of sorted data:\n"
     ]
    },
    {
     "name": "stderr",
     "output_type": "stream",
     "text": [
      "24/08/22 08:06:07 WARN CSVHeaderChecker: Number of column in CSV header is not equal to number of fields in the schema:\n",
      " Header length: 28, schema size: 7\n",
      "CSV file: file:///home/jovyan/data/flights.csv\n",
      "[Stage 7:===>                                                     (1 + 15) / 16]\r"
     ]
    },
    {
     "name": "stdout",
     "output_type": "stream",
     "text": [
      "+--------------+----+---------------+---------------+--------+-----------+\n",
      "|full_timestamp|time|battery_voltage|battery_current|altitude|      route|\n",
      "+--------------+----+---------------+---------------+--------+-----------+\n",
      "|          null| 1.0|            0.6|    0.100000001|   359.0|24.21090508|\n",
      "|          null| 1.0|            0.3|    0.100000001|   352.0|24.22592926|\n",
      "|          null| 1.0|            0.5|    0.100000001|   354.0|24.22467804|\n",
      "|          null| 1.0|            0.0|    0.100000001|    12.0|24.22217369|\n",
      "|          null| 1.0|            0.2|    0.100000001|     3.0|24.22718048|\n",
      "+--------------+----+---------------+---------------+--------+-----------+\n",
      "only showing top 5 rows\n",
      "\n"
     ]
    },
    {
     "name": "stderr",
     "output_type": "stream",
     "text": [
      "\r",
      "[Stage 7:=====================================================>   (15 + 1) / 16]\r",
      "\r",
      "                                                                                \r"
     ]
    }
   ],
   "source": [
    "# 시간순으로 정렬\n",
    "df_sorted = df_selected.orderBy(\"full_timestamp\", \"time\")\n",
    "\n",
    "print(\"\\nData sorted by time. Sample of sorted data:\")\n",
    "df_sorted.show(5)"
   ]
  },
  {
   "cell_type": "code",
   "execution_count": 16,
   "id": "4f224e92",
   "metadata": {},
   "outputs": [
    {
     "name": "stderr",
     "output_type": "stream",
     "text": [
      "24/08/22 08:06:09 WARN CSVHeaderChecker: Number of column in CSV header is not equal to number of fields in the schema:\n",
      " Header length: 28, schema size: 7\n",
      "CSV file: file:///home/jovyan/data/flights.csv\n",
      "24/08/22 08:06:10 WARN CSVHeaderChecker: Number of column in CSV header is not equal to number of fields in the schema:\n",
      " Header length: 28, schema size: 7\n",
      "CSV file: file:///home/jovyan/data/flights.csv\n",
      "                                                                                \r"
     ]
    },
    {
     "name": "stdout",
     "output_type": "stream",
     "text": [
      "\n",
      "Converted to Pandas DataFrame. Shape: (257896, 6)\n"
     ]
    }
   ],
   "source": [
    "# 시각화를 위해 Pandas DataFrame으로 변환\n",
    "pandas_df = df_sorted.toPandas()\n",
    "print(\"\\nConverted to Pandas DataFrame. Shape:\", pandas_df.shape)"
   ]
  },
  {
   "cell_type": "code",
   "execution_count": 17,
   "id": "69965735",
   "metadata": {},
   "outputs": [],
   "source": [
    "# 시각화 함수\n",
    "def visualize_data(df):\n",
    "    fig, axs = plt.subplots(2, 2, figsize=(15, 10))\n",
    "    fig.suptitle(\"Drone Data Visualization\")\n",
    "    \n",
    "    sns.lineplot(x=\"time\", y=\"battery_voltage\", hue=\"route\", data=df, ax=axs[0, 0])\n",
    "    axs[0, 0].set_title(\"Battery Voltage over Time\")\n",
    "    \n",
    "    sns.lineplot(x=\"time\", y=\"battery_current\", hue=\"route\", data=df, ax=axs[0, 1])\n",
    "    axs[0, 1].set_title(\"Battery Current over Time\")\n",
    "    \n",
    "    sns.scatterplot(x=\"time\", y=\"altitude\", hue=\"route\", data=df, ax=axs[1, 0])\n",
    "    axs[1, 0].set_title(\"Altitude over Time\")\n",
    "    \n",
    "    sns.boxplot(x=\"route\", y=\"battery_voltage\", data=df, ax=axs[1, 1])\n",
    "    axs[1, 1].set_title(\"Battery Voltage Distribution by Route\")\n",
    "    \n",
    "    plt.tight_layout()\n",
    "    plt.show()"
   ]
  },
  {
   "cell_type": "code",
   "execution_count": null,
   "id": "29da8e88",
   "metadata": {},
   "outputs": [],
   "source": []
  },
  {
   "cell_type": "code",
   "execution_count": null,
   "id": "a678fda1",
   "metadata": {},
   "outputs": [],
   "source": []
  }
 ],
 "metadata": {
  "kernelspec": {
   "display_name": "Python 3 (ipykernel)",
   "language": "python",
   "name": "python3"
  },
  "language_info": {
   "codemirror_mode": {
    "name": "ipython",
    "version": 3
   },
   "file_extension": ".py",
   "mimetype": "text/x-python",
   "name": "python",
   "nbconvert_exporter": "python",
   "pygments_lexer": "ipython3",
   "version": "3.9.7"
  }
 },
 "nbformat": 4,
 "nbformat_minor": 5
}
