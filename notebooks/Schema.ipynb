{
 "cells": [
  {
   "cell_type": "code",
   "execution_count": 1,
   "id": "202f598a",
   "metadata": {},
   "outputs": [
    {
     "name": "stderr",
     "output_type": "stream",
     "text": [
      "WARNING: An illegal reflective access operation has occurred\n",
      "WARNING: Illegal reflective access by org.apache.spark.unsafe.Platform (file:/usr/local/spark-3.1.2-bin-hadoop3.2/jars/spark-unsafe_2.12-3.1.2.jar) to constructor java.nio.DirectByteBuffer(long,int)\n",
      "WARNING: Please consider reporting this to the maintainers of org.apache.spark.unsafe.Platform\n",
      "WARNING: Use --illegal-access=warn to enable warnings of further illegal reflective access operations\n",
      "WARNING: All illegal access operations will be denied in a future release\n",
      "24/08/15 11:20:25 WARN NativeCodeLoader: Unable to load native-hadoop library for your platform... using builtin-java classes where applicable\n",
      "Using Spark's default log4j profile: org/apache/spark/log4j-defaults.properties\n",
      "Setting default log level to \"WARN\".\n",
      "To adjust logging level use sc.setLogLevel(newLevel). For SparkR, use setLogLevel(newLevel).\n"
     ]
    },
    {
     "data": {
      "text/plain": [
       "[('spark.master', 'local[*]'),\n",
       " ('spark.submit.pyFiles', ''),\n",
       " ('spark.submit.deployMode', 'client'),\n",
       " ('spark.app.name', 'spark-context-test'),\n",
       " ('spark.executor.extraJavaOptions',\n",
       "  '-Dio.netty.tryReflectionSetAccessible=true'),\n",
       " ('spark.ui.showConsoleProgress', 'true'),\n",
       " ('spark.driver.extraJavaOptions',\n",
       "  '-Dio.netty.tryReflectionSetAccessible=true')]"
      ]
     },
     "execution_count": 1,
     "metadata": {},
     "output_type": "execute_result"
    }
   ],
   "source": [
    "from pyspark import SparkConf, SparkContext \n",
    "# https://spark.apache.org/docs/latest/api/python/reference/api/pyspark.SparkContext.html\n",
    "\n",
    "spark_conf = SparkConf().setAppName(\"spark-context-test\")\n",
    "spark = SparkContext(conf = spark_conf)\n",
    "SparkConf().getAll()"
   ]
  },
  {
   "cell_type": "code",
   "execution_count": 2,
   "id": "fe064abc",
   "metadata": {},
   "outputs": [
    {
     "name": "stdout",
     "output_type": "stream",
     "text": [
      "Hello, jovyan\n"
     ]
    }
   ],
   "source": [
    "from pyspark.sql import SparkSession\n",
    "\n",
    "spark = (\n",
    "    SparkSession.builder\n",
    "        .master(\"local\")\n",
    "        .appName(\"spark-session-test\")\n",
    "#         .config(\"spark.some.config.option\", \"some-value\")\n",
    "        .getOrCreate()\n",
    ")\n",
    "print(f\"Hello, {spark.sparkContext.sparkUser()}\")\n",
    "\n",
    "# enableHiveSupport()"
   ]
  },
  {
   "cell_type": "code",
   "execution_count": 3,
   "id": "bd4788fe",
   "metadata": {},
   "outputs": [
    {
     "name": "stdout",
     "output_type": "stream",
     "text": [
      "root\n",
      " |-- flight: string (nullable = true)\n",
      " |-- time: string (nullable = true)\n",
      " |-- wind_speed: string (nullable = true)\n",
      " |-- wind_angle: string (nullable = true)\n",
      " |-- battery_voltage: string (nullable = true)\n",
      " |-- battery_current: string (nullable = true)\n",
      " |-- position_x: string (nullable = true)\n",
      " |-- position_y: string (nullable = true)\n",
      " |-- position_z: string (nullable = true)\n",
      " |-- orientation_x: string (nullable = true)\n",
      " |-- orientation_y: string (nullable = true)\n",
      " |-- orientation_z: string (nullable = true)\n",
      " |-- orientation_w: string (nullable = true)\n",
      " |-- velocity_x: string (nullable = true)\n",
      " |-- velocity_y: string (nullable = true)\n",
      " |-- velocity_z: string (nullable = true)\n",
      " |-- angular_x: string (nullable = true)\n",
      " |-- angular_y: string (nullable = true)\n",
      " |-- angular_z: string (nullable = true)\n",
      " |-- linear_acceleration_x: string (nullable = true)\n",
      " |-- linear_acceleration_y: string (nullable = true)\n",
      " |-- linear_acceleration_z: string (nullable = true)\n",
      " |-- speed: string (nullable = true)\n",
      " |-- payload: string (nullable = true)\n",
      " |-- altitude: string (nullable = true)\n",
      " |-- date: string (nullable = true)\n",
      " |-- time_day: string (nullable = true)\n",
      " |-- route: string (nullable = true)\n",
      "\n"
     ]
    }
   ],
   "source": [
    "df = spark.read.csv('../data/flights.csv')\n",
    "df = spark.read.option('header','true').csv('../data/flights.csv')\n",
    "df.printSchema()"
   ]
  },
  {
   "cell_type": "code",
   "execution_count": 4,
   "id": "f5a37935",
   "metadata": {},
   "outputs": [
    {
     "name": "stderr",
     "output_type": "stream",
     "text": [
      "24/08/15 11:28:11 WARN package: Truncated the string representation of a plan since it was too large. This behavior can be adjusted by setting 'spark.sql.debug.maxToStringFields'.\n"
     ]
    },
    {
     "name": "stdout",
     "output_type": "stream",
     "text": [
      "+------+----+-----------+----------+---------------+---------------+------------------+-----------+------------------+--------------------+--------------------+-------------+-------------+--------------------+------------+-----------+--------------------+--------------------+--------------------+---------------------+---------------------+---------------------+-----+-------+--------+----------+--------+-----+\n",
      "|flight|time| wind_speed|wind_angle|battery_voltage|battery_current|        position_x| position_y|        position_z|       orientation_x|       orientation_y|orientation_z|orientation_w|          velocity_x|  velocity_y| velocity_z|           angular_x|           angular_y|           angular_z|linear_acceleration_x|linear_acceleration_y|linear_acceleration_z|speed|payload|altitude|      date|time_day|route|\n",
      "+------+----+-----------+----------+---------------+---------------+------------------+-----------+------------------+--------------------+--------------------+-------------+-------------+--------------------+------------+-----------+--------------------+--------------------+--------------------+---------------------+---------------------+---------------------+-----+-------+--------+----------+--------+-----+\n",
      "|     1| 0.0|0.100000001|      12.0|    24.22217369|    0.087469511|-79.78239570000002|40.45804724|       269.3324017|         0.001772306|         0.005609551| -0.255525738|  0.966784358|        -0.012825926|-0.005644709|0.010474564|-8.25188999999999...|0.001407427999999...|0.006815216999999999|          0.004257701|         -0.120404978|         -9.811136699|  4.0|    0.0|      25|2019-04-07|   10:13|   R5|\n",
      "|     1| 0.2|0.100000001|       3.0|    24.22718048|    0.095421284|      -79.78239587|40.45804729|        269.332056|         0.001767616|         0.005606697| -0.255530089|  0.966783345|        -0.015409501|-0.001635618|0.010136867|             1.24E-6|        -0.002861936|         0.002033538|          0.006174664|         -0.116396593|         -9.810391763|  4.0|    0.0|      25|2019-04-07|   10:13|   R5|\n",
      "|     1| 0.3|0.100000001|     352.0|    24.22592926|    0.095421284|      -79.78239589| 40.4580473|       269.3330812|         0.001767616|         0.005606697| -0.255530089|  0.966783345|        -0.016513727|-0.001821677|0.009980725|            -7.31E-6|        -0.001485685|-8.74298999999999...|          0.002696266|         -0.128591638|   -9.809439837000001|  4.0|    0.0|      25|2019-04-07|   10:13|   R5|\n",
      "|     1| 0.5|0.100000001|     354.0|    24.22467804|    0.095421284|      -79.78239603|40.45804731|269.33464810000004|         0.001775031|          0.00561423| -0.255523652|  0.966784894|        -0.007775039|-0.005263036| 0.01509068|         0.001255224|         -3.47319E-4|         0.002443233|          0.002024007| -0.12827085400000002|         -9.810159044|  4.0|    0.0|      25|2019-04-07|   10:13|   R5|\n",
      "|     1| 0.6|0.100000001|     359.0|    24.21090508|    0.079517737|      -79.78239604|40.45804731|       269.3361778|         0.001775031|          0.00561423| -0.255523652|  0.966784894|        -0.009060158|-0.005173516|0.015142142|        -0.002383463|          1.81737E-4|        -0.006424722|          0.008270765|         -0.119889629|   -9.812124877999999|  4.0|    0.0|      25|2019-04-07|   10:13|   R5|\n",
      "|     1|0.81|0.100000001|     350.0|    24.22342491|    0.095421284|      -79.78239617|40.45804735|        269.335937|          0.00177404|         0.005614494| -0.255522519|  0.966785192|        -0.008598091| -0.00358808|0.013628142|        -0.004059605|         0.001028723|        -0.002546404|          0.005758231|          -0.12422734|         -9.811599798|  4.0|    0.0|      25|2019-04-07|   10:13|   R5|\n",
      "|     1| 0.9|0.200000003|     354.0|    24.21841621|    0.095421284|      -79.78239618|40.45804735|       269.3373308|          0.00177404|         0.005614494| -0.255522519|  0.966785192|        -0.008570227|-0.003143273|0.014001519|          4.81865E-4|        -0.003512588|         0.003304436|          0.006092723|         -0.115744812|         -9.811655931|  4.0|    0.0|      25|2019-04-07|   10:13|   R5|\n",
      "|     1| 1.1|0.200000003|     352.0|    24.21340942|    0.087469511|       -79.7823963|40.45804738|       269.3340816|0.001773382000000...|          0.00561697| -0.255522013|  0.966785312|        -0.006398486|-0.001244302|0.006902317|        -0.003008329|        -0.001127758|        -0.001499851| 0.008397809000000001|         -0.114766298|   -9.812431272000001|  4.0|    0.0|      25|2019-04-07|   10:13|   R5|\n",
      "|     1| 1.2|0.200000003|     358.0|    24.22968483|    0.095421284|      -79.78239641|40.45804741|       269.3324332|0.001773762999999...|         0.005617787| -0.255519837|  0.966785908|        -0.004376835| -6.61347E-4|0.008408337|         0.001629055|          0.00266217|          7.26055E-4|          0.003208411|         -0.128756091|         -9.809760264|  4.0|    0.0|      25|2019-04-07|   10:13|   R5|\n",
      "|     1| 1.4|0.200000003|       5.0|    24.21966934|    0.103373058|      -79.78239642|40.45804741|269.33415410000003|0.001773762999999...|         0.005617787| -0.255519837|  0.966785908|-0.00558930199999...|   -2.422E-4|0.008638831|         -3.65404E-4|         0.002419015|         0.005545465|          0.004759678|         -0.122761754|          -9.80952696|  4.0|    0.0|      25|2019-04-07|   10:13|   R5|\n",
      "|     1| 1.5|0.200000003|      14.0|    24.22718048|    0.103373058|      -79.78239657|40.45804744|       269.3322739|         0.001777346|         0.005607035| -0.255510509|  0.966788411|        -0.012703852|-0.004583177|0.008956421|          5.33183E-4|          0.00158982|        -0.006249706|          0.007140838|         -0.123051492|   -9.811536647999999|  4.0|    0.0|      25|2019-04-07|   10:13|   R5|\n",
      "|     1| 1.7|0.200000003|      13.0|    24.22467804|    0.095421284|       -79.7823967|40.45804746|       269.3313469|         0.001778617|         0.005606295| -0.255507886|  0.966789067|        -0.012492244|-0.004657143|0.009308194|0.001658592000000...|             4.04E-5|        -0.004678405|          0.004121587|         -0.126368234|         -9.809977196|  4.0|    0.0|      25|2019-04-07|   10:13|   R5|\n",
      "|     1| 1.8|0.300000012|      26.0|    24.22217369|    0.095421284|      -79.78239671|40.45804746|       269.3323102|         0.001778617|         0.005606295| -0.255507886|  0.966789067|        -0.012777263|-0.004265114|0.009637658|         -5.83891E-4|        -0.003660625|         0.001447038|           0.00786971|         -0.113424353|         -9.812600842|  4.0|    0.0|      25|2019-04-07|   10:13|   R5|\n",
      "|     1| 2.0|0.300000012|      33.0|    24.22592926|    0.095421284|      -79.78239681|40.45804748|       269.3313374|          0.00177743|0.005614169000000...| -0.255511284|  0.966788113|        -0.006946175| -8.96658E-4|0.009958745|        -0.002174523|        -0.002386048|        -0.003733424|          0.008738421|         -0.116456226|         -9.813400741|  4.0|    0.0|      25|2019-04-07|   10:13|   R5|\n",
      "|     1| 2.1|0.400000006|      44.0|    24.21966934|    0.087469511|      -79.78239682|40.45804749|       269.3323416|          0.00177743|0.005614169000000...| -0.255511284|  0.966788113|         -0.00706305| -6.26143E-4|0.010046349|          6.29782E-4|          7.07833E-4|          0.00641983|          0.003626632|         -0.125058969|          -9.80986259|  4.0|    0.0|      25|2019-04-07|   10:13|   R5|\n",
      "|     1| 2.3|0.400000006|      42.0|    24.20965195|    0.095421284|      -79.78239693| 40.4580475|       269.3313241|         0.001780445|0.005610021999999999| -0.255504727|  0.966789961|         -0.00953432|-0.002830108|0.010241527|         -6.76065E-4|          0.00264019|0.006093301999999999| 0.004378457000000...|          -0.11990273|         -9.809539239|  4.0|    0.0|      25|2019-04-07|   10:13|   R5|\n",
      "|     1| 2.4|        0.5|      48.0|    24.22467804|    0.095421284|      -79.78239695| 40.4580475|       269.3323588|         0.001780445|0.005610021999999999| -0.255504727|  0.966789961|        -0.011036481| -0.00297521|0.010225324|        -0.001038093|         0.003549908|        -0.004954652|          0.004435143|          -0.12583325|         -9.811433737|  4.0|    0.0|      25|2019-04-07|   10:13|   R5|\n",
      "|     1|2.61|        0.5|      52.0|    24.22592926|    0.079517737|      -79.78239703| 40.4580475|269.33115380000004|         0.001787041|         0.005616772|  -0.25550136|  0.966790795|        -0.005049052|-0.005957269|0.010215778|        -0.001671645|         0.001974951|        -0.005480701|          0.002125899|         -0.128288368|         -9.810479472|  4.0|    0.0|      25|2019-04-07|   10:13|   R5|\n",
      "|     1| 2.7|0.600000024|      54.0|    24.21841621|    0.095421284|      -79.78239711|40.45804751|269.32919780000003|         0.001786687|         0.005613609|  -0.25549987|  0.966791153|         -0.00706082|-0.005316043|0.010310964|        -0.002927051|          6.23886E-4|         -8.68972E-4| 0.006412536999999999|         -0.115042826|         -9.812171656|  4.0|    0.0|      25|2019-04-07|   10:13|   R5|\n",
      "|     1| 2.9|0.600000024|      48.0|    24.21966934|    0.103373058|      -79.78239714|40.45804751|       269.3313064|         0.001786687|         0.005613609|  -0.25549987|  0.966791153|        -0.008769461|-0.005236836| 0.01070851|        -0.005138368|         -7.63239E-4|-0.00589995900000...|          0.007978763|         -0.117183519|         -9.813835773|  4.0|    0.0|      25|2019-04-07|   10:13|   R5|\n",
      "+------+----+-----------+----------+---------------+---------------+------------------+-----------+------------------+--------------------+--------------------+-------------+-------------+--------------------+------------+-----------+--------------------+--------------------+--------------------+---------------------+---------------------+---------------------+-----+-------+--------+----------+--------+-----+\n",
      "only showing top 20 rows\n",
      "\n"
     ]
    }
   ],
   "source": [
    "df = spark.read.csv('../data/flights.csv',header=True,inferSchema=True)\n",
    "df.show()"
   ]
  },
  {
   "cell_type": "code",
   "execution_count": 5,
   "id": "cb1dc3dd",
   "metadata": {},
   "outputs": [
    {
     "data": {
      "text/plain": [
       "pyspark.sql.dataframe.DataFrame"
      ]
     },
     "execution_count": 5,
     "metadata": {},
     "output_type": "execute_result"
    }
   ],
   "source": [
    "type(df)"
   ]
  },
  {
   "cell_type": "code",
   "execution_count": 7,
   "id": "d21d4da5",
   "metadata": {},
   "outputs": [
    {
     "name": "stdout",
     "output_type": "stream",
     "text": [
      "+------+----+-----------+----------+---------------+---------------+------------------+-----------+-----------+-------------+-------------+-------------+-------------+------------+------------+-----------+--------------------+--------------------+--------------------+---------------------+---------------------+---------------------+-----+-------+--------+----------+--------+-----+\n",
      "|flight|time| wind_speed|wind_angle|battery_voltage|battery_current|        position_x| position_y| position_z|orientation_x|orientation_y|orientation_z|orientation_w|  velocity_x|  velocity_y| velocity_z|           angular_x|           angular_y|           angular_z|linear_acceleration_x|linear_acceleration_y|linear_acceleration_z|speed|payload|altitude|      date|time_day|route|\n",
      "+------+----+-----------+----------+---------------+---------------+------------------+-----------+-----------+-------------+-------------+-------------+-------------+------------+------------+-----------+--------------------+--------------------+--------------------+---------------------+---------------------+---------------------+-----+-------+--------+----------+--------+-----+\n",
      "|     1| 0.0|0.100000001|      12.0|    24.22217369|    0.087469511|-79.78239570000002|40.45804724|269.3324017|  0.001772306|  0.005609551| -0.255525738|  0.966784358|-0.012825926|-0.005644709|0.010474564|-8.25188999999999...|0.001407427999999...|0.006815216999999999|          0.004257701|         -0.120404978|         -9.811136699|  4.0|    0.0|      25|2019-04-07|   10:13|   R5|\n",
      "|     1| 0.2|0.100000001|       3.0|    24.22718048|    0.095421284|      -79.78239587|40.45804729| 269.332056|  0.001767616|  0.005606697| -0.255530089|  0.966783345|-0.015409501|-0.001635618|0.010136867|             1.24E-6|        -0.002861936|         0.002033538|          0.006174664|         -0.116396593|         -9.810391763|  4.0|    0.0|      25|2019-04-07|   10:13|   R5|\n",
      "|     1| 0.3|0.100000001|     352.0|    24.22592926|    0.095421284|      -79.78239589| 40.4580473|269.3330812|  0.001767616|  0.005606697| -0.255530089|  0.966783345|-0.016513727|-0.001821677|0.009980725|            -7.31E-6|        -0.001485685|-8.74298999999999...|          0.002696266|         -0.128591638|   -9.809439837000001|  4.0|    0.0|      25|2019-04-07|   10:13|   R5|\n",
      "+------+----+-----------+----------+---------------+---------------+------------------+-----------+-----------+-------------+-------------+-------------+-------------+------------+------------+-----------+--------------------+--------------------+--------------------+---------------------+---------------------+---------------------+-----+-------+--------+----------+--------+-----+\n",
      "only showing top 3 rows\n",
      "\n"
     ]
    }
   ],
   "source": [
    "df = spark.read.format('csv') \\\n",
    "    .option(\"header\", \"true\") \\\n",
    "    .option(\"inferSchema\", \"true\") \\\n",
    "    .load(\"../data/flights.csv\")\n",
    "df.show(3)"
   ]
  },
  {
   "cell_type": "markdown",
   "id": "cdcc86ac",
   "metadata": {},
   "source": [
    "# DATAFRAME"
   ]
  },
  {
   "cell_type": "code",
   "execution_count": 1,
   "id": "7bae92ee",
   "metadata": {},
   "outputs": [],
   "source": [
    "from pyspark.sql import SparkSession"
   ]
  },
  {
   "cell_type": "code",
   "execution_count": 2,
   "id": "aeb45ef0",
   "metadata": {},
   "outputs": [
    {
     "name": "stderr",
     "output_type": "stream",
     "text": [
      "WARNING: An illegal reflective access operation has occurred\n",
      "WARNING: Illegal reflective access by org.apache.spark.unsafe.Platform (file:/usr/local/spark-3.1.2-bin-hadoop3.2/jars/spark-unsafe_2.12-3.1.2.jar) to constructor java.nio.DirectByteBuffer(long,int)\n",
      "WARNING: Please consider reporting this to the maintainers of org.apache.spark.unsafe.Platform\n",
      "WARNING: Use --illegal-access=warn to enable warnings of further illegal reflective access operations\n",
      "WARNING: All illegal access operations will be denied in a future release\n",
      "24/08/16 08:54:25 WARN NativeCodeLoader: Unable to load native-hadoop library for your platform... using builtin-java classes where applicable\n",
      "Using Spark's default log4j profile: org/apache/spark/log4j-defaults.properties\n",
      "Setting default log level to \"WARN\".\n",
      "To adjust logging level use sc.setLogLevel(newLevel). For SparkR, use setLogLevel(newLevel).\n"
     ]
    }
   ],
   "source": [
    "spark = SparkSession.builder.appName(\"DataFrame-test\").getOrCreate()"
   ]
  },
  {
   "cell_type": "code",
   "execution_count": 7,
   "id": "539599f0",
   "metadata": {},
   "outputs": [
    {
     "name": "stdout",
     "output_type": "stream",
     "text": [
      "flight,time,wind_speed,wind_angle,battery_voltage,battery_current,position_x,position_y,position_z,orientation_x,orientation_y,orientation_z,orientation_w,velocity_x,velocity_y,velocity_z,angular_x,angular_y,angular_z,linear_acceleration_x,linear_acceleration_y,linear_acceleration_z,speed,payload,altitude,date,time_day,route\r\n",
      "1,0.0,0.100000001,12.0,24.22217369,0.087469511,-79.78239570000002,40.45804724,269.3324017,0.001772306,0.005609551,-0.255525738,0.966784358,-0.012825926,-0.005644709,0.010474564,-0.0008251889999999999,0.0014074279999999998,0.006815216999999999,0.004257701,-0.120404978,-9.811136699,4.0,0.0,25,2019-04-07,10:13,R5\r\n",
      "1,0.2,0.100000001,3.0,24.22718048,0.095421284,-79.78239587,40.45804729,269.332056,0.001767616,0.005606697,-0.255530089,0.966783345,-0.015409501,-0.001635618,0.010136867,1.24e-06,-0.002861936,0.002033538,0.006174664,-0.116396593,-9.810391763,4.0,0.0,25,2019-04-07,10:13,R5\r\n",
      "1,0.3,0.100000001,352.0,24.22592926,0.095421284,-79.78239589,40.4580473,269.3330812,0.001767616,0.005606697,-0.255530089,0.966783345,-0.016513727,-0.001821677,0.009980725,-7.31e-06,-0.001485685,-0.0008742989999999999,0.002696266,-0.128591638,-9.809439837000001,4.0,0.0,25,2019-04-07,10:13,R5\r\n",
      "1,0.5,0.100000001,354.0,24.22467804,0.095421284,-79.78239603,40.45804731,269.33464810000004,0.001775031,0.00561423,-0.255523652,0.966784894,-0.007775039,-0.005263036,0.01509068,0.001255224,-0.000347319,0.002443233,0.002024007,-0.12827085400000002,-9.810159044,4.0,0.0,25,2019-04-07,10:13,R5\r\n",
      "1,0.6,0.100000001,359.0,24.21090508,0.079517737,-79.78239604,40.45804731,269.3361778,0.001775031,0.00561423,-0.255523652,0.966784894,-0.009060158,-0.005173516,0.015142142,-0.002383463,0.000181737,-0.006424722,0.008270765,-0.119889629,-9.812124877999999,4.0,0.0,25,2019-04-07,10:13,R5\r\n",
      "1,0.81,0.100000001,350.0,24.22342491,0.095421284,-79.78239617,40.45804735,269.335937,0.00177404,0.005614494,-0.255522519,0.966785192,-0.008598091,-0.00358808,0.013628142,-0.004059605,0.001028723,-0.002546404,0.005758231,-0.12422734,-9.811599798,4.0,0.0,25,2019-04-07,10:13,R5\r\n",
      "1,0.9,0.200000003,354.0,24.21841621,0.095421284,-79.78239618,40.45804735,269.3373308,0.00177404,0.005614494,-0.255522519,0.966785192,-0.008570227,-0.003143273,0.014001519,0.000481865,-0.003512588,0.003304436,0.006092723,-0.115744812,-9.811655931,4.0,0.0,25,2019-04-07,10:13,R5\r\n",
      "1,1.1,0.200000003,352.0,24.21340942,0.087469511,-79.7823963,40.45804738,269.3340816,0.0017733820000000004,0.00561697,-0.255522013,0.966785312,-0.006398486,-0.001244302,0.006902317,-0.003008329,-0.001127758,-0.001499851,0.008397809000000001,-0.114766298,-9.812431272000001,4.0,0.0,25,2019-04-07,10:13,R5\r\n",
      "1,1.2,0.200000003,358.0,24.22968483,0.095421284,-79.78239641,40.45804741,269.3324332,0.0017737629999999996,0.005617787,-0.255519837,0.966785908,-0.004376835,-0.000661347,0.008408337,0.001629055,0.00266217,0.000726055,0.003208411,-0.128756091,-9.809760264,4.0,0.0,25,2019-04-07,10:13,R5\r\n"
     ]
    }
   ],
   "source": [
    "%%bash\n",
    "head -n 10 ../data/flights.csv"
   ]
  },
  {
   "cell_type": "code",
   "execution_count": 8,
   "id": "e83e5e2a",
   "metadata": {},
   "outputs": [],
   "source": [
    "# csv 파일 읽기\n",
    "csv_file_path = \"../data/flights.csv\"\n",
    "df = spark.read.csv(csv_file_path, header=True)"
   ]
  },
  {
   "cell_type": "code",
   "execution_count": 15,
   "id": "b60b0f1a",
   "metadata": {},
   "outputs": [
    {
     "name": "stdout",
     "output_type": "stream",
     "text": [
      "root\n",
      " |-- flight: string (nullable = true)\n",
      " |-- time: string (nullable = true)\n",
      " |-- wind_speed: string (nullable = true)\n",
      " |-- wind_angle: string (nullable = true)\n",
      " |-- battery_voltage: string (nullable = true)\n",
      " |-- battery_current: string (nullable = true)\n",
      " |-- position_x: string (nullable = true)\n",
      " |-- position_y: string (nullable = true)\n",
      " |-- position_z: string (nullable = true)\n",
      " |-- orientation_x: string (nullable = true)\n",
      " |-- orientation_y: string (nullable = true)\n",
      " |-- orientation_z: string (nullable = true)\n",
      " |-- orientation_w: string (nullable = true)\n",
      " |-- velocity_x: string (nullable = true)\n",
      " |-- velocity_y: string (nullable = true)\n",
      " |-- velocity_z: string (nullable = true)\n",
      " |-- angular_x: string (nullable = true)\n",
      " |-- angular_y: string (nullable = true)\n",
      " |-- angular_z: string (nullable = true)\n",
      " |-- linear_acceleration_x: string (nullable = true)\n",
      " |-- linear_acceleration_y: string (nullable = true)\n",
      " |-- linear_acceleration_z: string (nullable = true)\n",
      " |-- speed: string (nullable = true)\n",
      " |-- payload: string (nullable = true)\n",
      " |-- altitude: string (nullable = true)\n",
      " |-- date: string (nullable = true)\n",
      " |-- time_day: string (nullable = true)\n",
      " |-- route: string (nullable = true)\n",
      "\n",
      "+------+----+-----------+----------+---------------+---------------+------------------+-----------+------------------+-------------+-------------+-------------+-------------+------------+------------+-----------+--------------------+--------------------+--------------------+---------------------+---------------------+---------------------+-----+-------+--------+----------+--------+-----+\n",
      "|flight|time| wind_speed|wind_angle|battery_voltage|battery_current|        position_x| position_y|        position_z|orientation_x|orientation_y|orientation_z|orientation_w|  velocity_x|  velocity_y| velocity_z|           angular_x|           angular_y|           angular_z|linear_acceleration_x|linear_acceleration_y|linear_acceleration_z|speed|payload|altitude|      date|time_day|route|\n",
      "+------+----+-----------+----------+---------------+---------------+------------------+-----------+------------------+-------------+-------------+-------------+-------------+------------+------------+-----------+--------------------+--------------------+--------------------+---------------------+---------------------+---------------------+-----+-------+--------+----------+--------+-----+\n",
      "|     1| 0.0|0.100000001|      12.0|    24.22217369|    0.087469511|-79.78239570000002|40.45804724|       269.3324017|  0.001772306|  0.005609551| -0.255525738|  0.966784358|-0.012825926|-0.005644709|0.010474564|-0.00082518899999...|0.001407427999999...|0.006815216999999999|          0.004257701|         -0.120404978|         -9.811136699|  4.0|    0.0|      25|2019-04-07|   10:13|   R5|\n",
      "|     1| 0.2|0.100000001|       3.0|    24.22718048|    0.095421284|      -79.78239587|40.45804729|        269.332056|  0.001767616|  0.005606697| -0.255530089|  0.966783345|-0.015409501|-0.001635618|0.010136867|            1.24e-06|        -0.002861936|         0.002033538|          0.006174664|         -0.116396593|         -9.810391763|  4.0|    0.0|      25|2019-04-07|   10:13|   R5|\n",
      "|     1| 0.3|0.100000001|     352.0|    24.22592926|    0.095421284|      -79.78239589| 40.4580473|       269.3330812|  0.001767616|  0.005606697| -0.255530089|  0.966783345|-0.016513727|-0.001821677|0.009980725|           -7.31e-06|        -0.001485685|-0.00087429899999...|          0.002696266|         -0.128591638|   -9.809439837000001|  4.0|    0.0|      25|2019-04-07|   10:13|   R5|\n",
      "|     1| 0.5|0.100000001|     354.0|    24.22467804|    0.095421284|      -79.78239603|40.45804731|269.33464810000004|  0.001775031|   0.00561423| -0.255523652|  0.966784894|-0.007775039|-0.005263036| 0.01509068|         0.001255224|        -0.000347319|         0.002443233|          0.002024007| -0.12827085400000002|         -9.810159044|  4.0|    0.0|      25|2019-04-07|   10:13|   R5|\n",
      "|     1| 0.6|0.100000001|     359.0|    24.21090508|    0.079517737|      -79.78239604|40.45804731|       269.3361778|  0.001775031|   0.00561423| -0.255523652|  0.966784894|-0.009060158|-0.005173516|0.015142142|        -0.002383463|         0.000181737|        -0.006424722|          0.008270765|         -0.119889629|   -9.812124877999999|  4.0|    0.0|      25|2019-04-07|   10:13|   R5|\n",
      "+------+----+-----------+----------+---------------+---------------+------------------+-----------+------------------+-------------+-------------+-------------+-------------+------------+------------+-----------+--------------------+--------------------+--------------------+---------------------+---------------------+---------------------+-----+-------+--------+----------+--------+-----+\n",
      "only showing top 5 rows\n",
      "\n"
     ]
    }
   ],
   "source": [
    "# Schema of DataFrame 표시\n",
    "df.printSchema()\n",
    "df.show(5)"
   ]
  },
  {
   "cell_type": "code",
   "execution_count": 29,
   "id": "4a587489",
   "metadata": {},
   "outputs": [],
   "source": [
    "# data 타입 표시\n",
    "from pyspark.sql.types import StructType, StructField, StringType, IntegerType, DateType, DoubleType, TimestampType"
   ]
  },
  {
   "cell_type": "code",
   "execution_count": 33,
   "id": "31c3a96f",
   "metadata": {},
   "outputs": [],
   "source": [
    "# Schema 정의\n",
    "\n",
    "schema = StructType([\n",
    "    StructField(\"flight\", StringType(), True),\n",
    "    StructField(\"time\", TimestampType(), True),\n",
    "    StructField(\"wind_speed\", DoubleType(), True),\n",
    "    StructField(\"wind_angle\", DoubleType(), True),\n",
    "    StructField(\"battery_voltage\", DoubleType(), True),\n",
    "    StructField(\"battery_current\", DoubleType(), True),\n",
    "    StructField(\"position_x\", DoubleType(), True),\n",
    "    StructField(\"position_y\", DoubleType(), True),\n",
    "    StructField(\"position_z\", DoubleType(), True),\n",
    "#    StructField(\"orientation_x\", DoubleType(), True),\n",
    "#   StructField(\"orientation_y\", DoubleType(), True),\n",
    "#    StructField(\"orientation_z\", DoubleType(), True),\n",
    "#    StructField(\"orientation_w\", DoubleType(), True),\n",
    "#    StructField(\"velocity_x\", DoubleType(), True),\n",
    "#    StructField(\"velocity_y\", DoubleType(), True),\n",
    "#    StructField(\"velocity_z\", DoubleType(), True),\n",
    "#    StructField(\"angular_x\", DoubleType(), True),\n",
    "#    StructField(\"angular_y\", DoubleType(), True),\n",
    "#    StructField(\"angular_z\", DoubleType(), True),\n",
    "#    StructField(\"linear_acceleration_x\", DoubleType(), True),\n",
    "#    StructField(\"linear_acceleration_y\", DoubleType(), True),\n",
    "#    StructField(\"linear_acceleration_z\", DoubleType(), True),\n",
    "#    StructField(\"speed\", DoubleType(), True),\n",
    "#    StructField(\"payload\", StringType(), True),\n",
    "#    StructField(\"altitude\", DoubleType(), True),\n",
    "#    StructField(\"date\", DateType(), True),\n",
    "#    StructField(\"time_day\", TimestampType(), True),\n",
    "#    StructField(\"route\", StringType(), True)\n",
    "])"
   ]
  },
  {
   "cell_type": "code",
   "execution_count": 34,
   "id": "bcda80a2",
   "metadata": {},
   "outputs": [],
   "source": [
    "csv_file_path = \"../data/flights.csv\"\n",
    "df = spark.read.csv(csv_file_path,header=True, schema=schema)"
   ]
  },
  {
   "cell_type": "code",
   "execution_count": 35,
   "id": "5c987c47",
   "metadata": {},
   "outputs": [
    {
     "name": "stdout",
     "output_type": "stream",
     "text": [
      "root\n",
      " |-- flight: string (nullable = true)\n",
      " |-- time: timestamp (nullable = true)\n",
      " |-- wind_speed: double (nullable = true)\n",
      " |-- wind_angle: double (nullable = true)\n",
      " |-- battery_voltage: double (nullable = true)\n",
      " |-- battery_current: double (nullable = true)\n",
      " |-- position_x: double (nullable = true)\n",
      " |-- position_y: double (nullable = true)\n",
      " |-- position_z: double (nullable = true)\n",
      "\n",
      "+------+----+-----------+----------+---------------+---------------+------------------+-----------+------------------+\n",
      "|flight|time| wind_speed|wind_angle|battery_voltage|battery_current|        position_x| position_y|        position_z|\n",
      "+------+----+-----------+----------+---------------+---------------+------------------+-----------+------------------+\n",
      "|     1|null|0.100000001|      12.0|    24.22217369|    0.087469511|-79.78239570000002|40.45804724|       269.3324017|\n",
      "|     1|null|0.100000001|       3.0|    24.22718048|    0.095421284|      -79.78239587|40.45804729|        269.332056|\n",
      "|     1|null|0.100000001|     352.0|    24.22592926|    0.095421284|      -79.78239589| 40.4580473|       269.3330812|\n",
      "|     1|null|0.100000001|     354.0|    24.22467804|    0.095421284|      -79.78239603|40.45804731|269.33464810000004|\n",
      "|     1|null|0.100000001|     359.0|    24.21090508|    0.079517737|      -79.78239604|40.45804731|       269.3361778|\n",
      "+------+----+-----------+----------+---------------+---------------+------------------+-----------+------------------+\n",
      "only showing top 5 rows\n",
      "\n"
     ]
    },
    {
     "name": "stderr",
     "output_type": "stream",
     "text": [
      "24/08/16 09:37:44 WARN CSVHeaderChecker: Number of column in CSV header is not equal to number of fields in the schema:\n",
      " Header length: 28, schema size: 9\n",
      "CSV file: file:///home/jovyan/data/flights.csv\n"
     ]
    }
   ],
   "source": [
    "df.printSchema()\n",
    "df.show(5)"
   ]
  },
  {
   "cell_type": "code",
   "execution_count": 36,
   "id": "e4071983",
   "metadata": {},
   "outputs": [
    {
     "name": "stderr",
     "output_type": "stream",
     "text": [
      "                                                                                \r"
     ]
    }
   ],
   "source": [
    "# inferSchema 사용\n",
    "csv_file_path = \"../data/flights.csv\"\n",
    "df = spark.read.csv(csv_file_path, header=True, inferSchema=True)"
   ]
  },
  {
   "cell_type": "code",
   "execution_count": 37,
   "id": "105f4c8d",
   "metadata": {},
   "outputs": [
    {
     "name": "stdout",
     "output_type": "stream",
     "text": [
      "root\n",
      " |-- flight: integer (nullable = true)\n",
      " |-- time: double (nullable = true)\n",
      " |-- wind_speed: double (nullable = true)\n",
      " |-- wind_angle: double (nullable = true)\n",
      " |-- battery_voltage: double (nullable = true)\n",
      " |-- battery_current: double (nullable = true)\n",
      " |-- position_x: double (nullable = true)\n",
      " |-- position_y: double (nullable = true)\n",
      " |-- position_z: double (nullable = true)\n",
      " |-- orientation_x: double (nullable = true)\n",
      " |-- orientation_y: double (nullable = true)\n",
      " |-- orientation_z: double (nullable = true)\n",
      " |-- orientation_w: double (nullable = true)\n",
      " |-- velocity_x: double (nullable = true)\n",
      " |-- velocity_y: double (nullable = true)\n",
      " |-- velocity_z: double (nullable = true)\n",
      " |-- angular_x: double (nullable = true)\n",
      " |-- angular_y: double (nullable = true)\n",
      " |-- angular_z: double (nullable = true)\n",
      " |-- linear_acceleration_x: double (nullable = true)\n",
      " |-- linear_acceleration_y: double (nullable = true)\n",
      " |-- linear_acceleration_z: double (nullable = true)\n",
      " |-- speed: double (nullable = true)\n",
      " |-- payload: double (nullable = true)\n",
      " |-- altitude: string (nullable = true)\n",
      " |-- date: string (nullable = true)\n",
      " |-- time_day: string (nullable = true)\n",
      " |-- route: string (nullable = true)\n",
      "\n",
      "+------+----+-----------+----------+---------------+---------------+------------------+-----------+------------------+-------------+-------------+-------------+-------------+------------+------------+-----------+--------------------+--------------------+--------------------+---------------------+---------------------+---------------------+-----+-------+--------+----------+--------+-----+\n",
      "|flight|time| wind_speed|wind_angle|battery_voltage|battery_current|        position_x| position_y|        position_z|orientation_x|orientation_y|orientation_z|orientation_w|  velocity_x|  velocity_y| velocity_z|           angular_x|           angular_y|           angular_z|linear_acceleration_x|linear_acceleration_y|linear_acceleration_z|speed|payload|altitude|      date|time_day|route|\n",
      "+------+----+-----------+----------+---------------+---------------+------------------+-----------+------------------+-------------+-------------+-------------+-------------+------------+------------+-----------+--------------------+--------------------+--------------------+---------------------+---------------------+---------------------+-----+-------+--------+----------+--------+-----+\n",
      "|     1| 0.0|0.100000001|      12.0|    24.22217369|    0.087469511|-79.78239570000002|40.45804724|       269.3324017|  0.001772306|  0.005609551| -0.255525738|  0.966784358|-0.012825926|-0.005644709|0.010474564|-8.25188999999999...|0.001407427999999...|0.006815216999999999|          0.004257701|         -0.120404978|         -9.811136699|  4.0|    0.0|      25|2019-04-07|   10:13|   R5|\n",
      "|     1| 0.2|0.100000001|       3.0|    24.22718048|    0.095421284|      -79.78239587|40.45804729|        269.332056|  0.001767616|  0.005606697| -0.255530089|  0.966783345|-0.015409501|-0.001635618|0.010136867|             1.24E-6|        -0.002861936|         0.002033538|          0.006174664|         -0.116396593|         -9.810391763|  4.0|    0.0|      25|2019-04-07|   10:13|   R5|\n",
      "|     1| 0.3|0.100000001|     352.0|    24.22592926|    0.095421284|      -79.78239589| 40.4580473|       269.3330812|  0.001767616|  0.005606697| -0.255530089|  0.966783345|-0.016513727|-0.001821677|0.009980725|            -7.31E-6|        -0.001485685|-8.74298999999999...|          0.002696266|         -0.128591638|   -9.809439837000001|  4.0|    0.0|      25|2019-04-07|   10:13|   R5|\n",
      "|     1| 0.5|0.100000001|     354.0|    24.22467804|    0.095421284|      -79.78239603|40.45804731|269.33464810000004|  0.001775031|   0.00561423| -0.255523652|  0.966784894|-0.007775039|-0.005263036| 0.01509068|         0.001255224|         -3.47319E-4|         0.002443233|          0.002024007| -0.12827085400000002|         -9.810159044|  4.0|    0.0|      25|2019-04-07|   10:13|   R5|\n",
      "|     1| 0.6|0.100000001|     359.0|    24.21090508|    0.079517737|      -79.78239604|40.45804731|       269.3361778|  0.001775031|   0.00561423| -0.255523652|  0.966784894|-0.009060158|-0.005173516|0.015142142|        -0.002383463|          1.81737E-4|        -0.006424722|          0.008270765|         -0.119889629|   -9.812124877999999|  4.0|    0.0|      25|2019-04-07|   10:13|   R5|\n",
      "+------+----+-----------+----------+---------------+---------------+------------------+-----------+------------------+-------------+-------------+-------------+-------------+------------+------------+-----------+--------------------+--------------------+--------------------+---------------------+---------------------+---------------------+-----+-------+--------+----------+--------+-----+\n",
      "only showing top 5 rows\n",
      "\n"
     ]
    }
   ],
   "source": [
    "df.printSchema()\n",
    "df.show(5)"
   ]
  },
  {
   "cell_type": "markdown",
   "id": "612f7ac8",
   "metadata": {},
   "source": []
  }
 ],
 "metadata": {
  "kernelspec": {
   "display_name": "Python 3 (ipykernel)",
   "language": "python",
   "name": "python3"
  },
  "language_info": {
   "codemirror_mode": {
    "name": "ipython",
    "version": 3
   },
   "file_extension": ".py",
   "mimetype": "text/x-python",
   "name": "python",
   "nbconvert_exporter": "python",
   "pygments_lexer": "ipython3",
   "version": "3.9.7"
  }
 },
 "nbformat": 4,
 "nbformat_minor": 5
}
